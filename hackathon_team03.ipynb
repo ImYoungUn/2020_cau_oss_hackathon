{
  "nbformat": 4,
  "nbformat_minor": 0,
  "metadata": {
    "accelerator": "GPU",
    "colab": {
      "name": "hackathon_team03",
      "provenance": [],
      "collapsed_sections": [
        "1AosAX9DXOlc",
        "67lwEXhUqys1",
        "A-YjppJpXBO9",
        "4aPbgI-c-Kj8"
      ],
      "toc_visible": true,
      "include_colab_link": true
    },
    "kernelspec": {
      "display_name": "Python 3",
      "language": "python",
      "name": "python3"
    },
    "language_info": {
      "codemirror_mode": {
        "name": "ipython",
        "version": 3
      },
      "file_extension": ".py",
      "mimetype": "text/x-python",
      "name": "python",
      "nbconvert_exporter": "python",
      "pygments_lexer": "ipython3",
      "version": "3.7.4"
    }
  },
  "cells": [
    {
      "cell_type": "markdown",
      "metadata": {
        "id": "view-in-github",
        "colab_type": "text"
      },
      "source": [
        "<a href=\"https://colab.research.google.com/github/ImYoungUn/2020_cau_oss_hackathon/blob/master/hackathon_team03.ipynb\" target=\"_parent\"><img src=\"https://colab.research.google.com/assets/colab-badge.svg\" alt=\"Open In Colab\"/></a>"
      ]
    },
    {
      "cell_type": "markdown",
      "metadata": {
        "colab_type": "text",
        "id": "1AosAX9DXOlc"
      },
      "source": [
        "# **0. 해커톤 진행 주의사항**\n",
        "\n",
        "**1)  개발 관련 주의사항**\n",
        "*   [1. 초기 환경 설정]은 절대 수정하지 말 것\n",
        "*   모든 구현은 [2. 데이터 전처리] 및 [3.모델 생성]에서만 진행\n",
        "*   [4. 모델 저장]에서 team_name 변수 변경 (예.`team_name = 'team01'`)\n",
        " *    트레이닝 중간에 checkpoint를 활용하여 모델을 저장한 경우에도 파일 이름 양식 통일 필수\n",
        "*   Colab 사용중 실수로 데이터 손실이 발생할 수도 있으니 중간 결과값을 github에 업로드 \n",
        " *    \"런타임->모든 런타임 재설정\"은 절대 누르지 말 것 (저장한 모델 데이터가 모두 삭제됨)\n",
        "*   효율적인 구현 및 테스팅을 위해 GPU 가속 기능 활성화\n",
        " *    \"런타임 -> 런타임 유형변경 -> 하드웨어 가속기 -> GPU 설정\"\n",
        "*   주석을 최대한 자세히 작성\n",
        "*   Keras API 관련하여 [Keras Documentation](https://keras.io/) 참조\n",
        "\n",
        "**2) 제출 관련 주의사항**\n",
        "*  제출물\n",
        " *  소스코드 (hackathon_teamXX.ipynb)\n",
        " *  컴파일된 모델 파일 (model_entire_teamXX.h5)\n",
        " *  모델 발표 자료 \n",
        "* 제출 기한: **오후 5시 (단, 발표자료는 11시)**\n",
        "* 제출 방법: [GitHub README](https://github.com/cauosshackathonta/2020_cau_oss_hackathon/) 참조\n",
        "\n",
        " \n",
        "**3) 평가 관련 주의사항**\n",
        "*  모델 성능 = 테스트 데이터 셋 분류 정확도\n",
        " *  model.evaluate(x_test, y_test)\n",
        "*  제출된 모델들의 테스트 데이터 셋 분류 정확도를 기준으로 수상작 결정\n",
        "*  수상 후보들에 대해서는 소스코드를 기반으로 모델 재검증 \n",
        " \n",
        "**4) 수상 실격 사유**\n",
        "*  유사한 소스코드 or 알고리즘이 적발될 경우\n",
        "*  소스코드와 제출된 모델이 상이한 경우\n",
        "*  개발 관련 주의사항을 지키지 않은 경우\n",
        " *  예: [초기 환경 설정]을 수정한 경우\n",
        "*  데이터 셋을 변조한 경우\n",
        " *  예. 테스트 데이터 셋을 트레이닝 데이터 셋에 포함하여 모델 생성 \n",
        "*  주석이 소스코드와 맞지 않거나 미비할 경우\n",
        "\n",
        "\n",
        "\n",
        "\n"
      ]
    },
    {
      "cell_type": "markdown",
      "metadata": {
        "colab_type": "text",
        "id": "67lwEXhUqys1"
      },
      "source": [
        "# **1. 초기 환경 설정**\n",
        "\n"
      ]
    },
    {
      "cell_type": "code",
      "metadata": {
        "colab_type": "code",
        "id": "Ms5PBBJ1qSC6",
        "colab": {
          "base_uri": "https://localhost:8080/",
          "height": 323
        },
        "outputId": "588b61bc-618e-4cb3-ff9e-a969e5301570"
      },
      "source": [
        "from __future__ import absolute_import, division, print_function, unicode_literals, unicode_literals\n",
        "\n",
        "# tensorflow와 tf.keras 및 관련 라이브러리 임포트\n",
        "import tensorflow as tf\n",
        "from tensorflow import keras\n",
        "from keras.utils import np_utils\n",
        "\n",
        "import numpy as np\n",
        "\n",
        "# 데이터셋 다운로드\n",
        "check = !if [ -d 'dataset/' ]; then echo \"1\" ; else echo \"0\"; fi\n",
        "if (check[0] is '0' ):\n",
        "  !mkdir dataset\n",
        "  !wget 'https://www.itl.nist.gov/iaui/vip/cs_links/EMNIST/matlab.zip'\n",
        "  !unzip matlab.zip -d /content/dataset\n",
        "\n",
        "# 데이터셋 로드\n",
        "from scipy import io as spio\n",
        "emnist = spio.loadmat(\"/content/dataset/matlab/emnist-balanced.mat\")\n",
        "\n",
        "x_train = emnist[\"dataset\"][0][0][0][0][0][0]\n",
        "y_train = emnist[\"dataset\"][0][0][0][0][0][1]\n",
        "\n",
        "x_test = emnist[\"dataset\"][0][0][1][0][0][0]\n",
        "y_test = emnist[\"dataset\"][0][0][1][0][0][1]\n",
        "\n",
        "# # 분류를 위해 클래스 벡터를 바이너리 매트릭스로 변환\n",
        "y_train = np_utils.to_categorical(y_train)\n",
        "y_test = np_utils.to_categorical(y_test)\n",
        "\n",
        "# 데이터 28x28 이미지화\n",
        "x_train = x_train.reshape(x_train.shape[0], 28, 28, 1).astype('float32')\n",
        "x_test = x_test.reshape(x_test.shape[0], 28, 28, 1).astype('float32')\n",
        "\n",
        "# 총 클래스 개수\n",
        "num_classes = y_test.shape[1]\n",
        "input_shape = x_test.shape[1:]"
      ],
      "execution_count": null,
      "outputs": [
        {
          "output_type": "stream",
          "text": [
            "--2020-08-29 01:48:08--  https://www.itl.nist.gov/iaui/vip/cs_links/EMNIST/matlab.zip\n",
            "Resolving www.itl.nist.gov (www.itl.nist.gov)... 129.6.13.51, 2610:20:6b01:4::36\n",
            "Connecting to www.itl.nist.gov (www.itl.nist.gov)|129.6.13.51|:443... connected.\n",
            "HTTP request sent, awaiting response... 200 OK\n",
            "Length: 743900280 (709M) [application/zip]\n",
            "Saving to: ‘matlab.zip’\n",
            "\n",
            "matlab.zip          100%[===================>] 709.44M  6.70MB/s    in 74s     \n",
            "\n",
            "2020-08-29 01:49:23 (9.57 MB/s) - ‘matlab.zip’ saved [743900280/743900280]\n",
            "\n",
            "Archive:  matlab.zip\n",
            "  inflating: /content/dataset/matlab/emnist-balanced.mat  \n",
            "  inflating: /content/dataset/matlab/emnist-byclass.mat  \n",
            "  inflating: /content/dataset/matlab/emnist-bymerge.mat  \n",
            "  inflating: /content/dataset/matlab/emnist-digits.mat  \n",
            "  inflating: /content/dataset/matlab/emnist-letters.mat  \n",
            "  inflating: /content/dataset/matlab/emnist-mnist.mat  \n"
          ],
          "name": "stdout"
        }
      ]
    },
    {
      "cell_type": "markdown",
      "metadata": {
        "colab_type": "text",
        "id": "A-YjppJpXBO9"
      },
      "source": [
        "# **2. 데이터 전처리**\n",
        "\n"
      ]
    },
    {
      "cell_type": "code",
      "metadata": {
        "colab_type": "code",
        "id": "QZ9KWTBP6AI1",
        "colab": {
          "base_uri": "https://localhost:8080/",
          "height": 35
        },
        "outputId": "6c10d3cd-6947-494f-faf5-da337c0b9c37"
      },
      "source": [
        "# 데이터 전처리 (예: normalization)\n",
        "x_train_after = x_train / 255.0\n",
        "x_test_after = x_test / 255.0"
      ],
      "execution_count": null,
      "outputs": [
        {
          "output_type": "stream",
          "text": [
            "88435200\n"
          ],
          "name": "stdout"
        }
      ]
    },
    {
      "cell_type": "markdown",
      "metadata": {
        "colab_type": "text",
        "id": "v-lo-O1yiFpY"
      },
      "source": [
        "# **3. 모델 생성**"
      ]
    },
    {
      "cell_type": "code",
      "metadata": {
        "colab_type": "code",
        "id": "DZP4eRmRqgRp",
        "colab": {
          "base_uri": "https://localhost:8080/",
          "height": 1000
        },
        "outputId": "133683c6-95fc-458c-bf04-cdeb3c0ff903"
      },
      "source": [
        "from keras.layers import Dense, Dropout, Activation, Flatten\n",
        "from keras.layers import Conv2D, MaxPooling2D\n",
        "from matplotlib import pyplot as plt\n",
        "import numpy as np\n",
        "from keras.utils import np_utils\n",
        "from keras.layers.normalization import BatchNormalization\n",
        "import os\n",
        "# 순차 모델 생성 (가장 기본구조)\n",
        "model = keras.Sequential()\n",
        "model.add(Conv2D(32, (3, 3), padding='same', input_shape=x_test.shape[1:]))\n",
        "model.add(BatchNormalization())\n",
        "model.add(Activation('relu'))\n",
        "model.add(Conv2D(32, (3, 3)))\n",
        "model.add(BatchNormalization())\n",
        "model.add(Activation('relu'))\n",
        "model.add(MaxPooling2D(pool_size=(2, 2)))\n",
        "model.add(Dropout(0.25))\n",
        "model.add(Conv2D(64, (3, 3), padding='same'))\n",
        "model.add(BatchNormalization())\n",
        "model.add(Activation('relu'))\n",
        "model.add(Conv2D(64, (3, 3)))\n",
        "model.add(BatchNormalization())\n",
        "model.add(Activation('relu'))\n",
        "model.add(MaxPooling2D(pool_size=(2, 2)))\n",
        "model.add(Dropout(0.25))\n",
        "model.add(Flatten())\n",
        "model.add(Dense(512))\n",
        "model.add(Dense(512))\n",
        "model.add(Dense(512))\n",
        "model.add(BatchNormalization())\n",
        "model.add(Activation('relu'))\n",
        "model.add(Dropout(0.5))\n",
        "model.add(Dense(num_classes, activation=tf.nn.softmax))\n",
        "# model.add(Activation('softmax'))\n",
        "# 모델 컴파일\n",
        "# optimizer: 모델을 업데이트 하는 방식\n",
        "# loss: 모델의 정확도를 판단하는 방식\n",
        "# metrics: 트레이닝 및 테스팅 성능 모니터링을 위한 평가지표\n",
        "model.compile(loss='categorical_crossentropy', optimizer='adam', metrics=['accuracy'])\n",
        "# 체크포인트 생성\n",
        "cp_callback = tf.keras.callbacks.ModelCheckpoint(filepath='/content/checkpoint_entire_best.h5', monitor='val_accuracy', verbose=1, save_weight_only=False, save_best_only=True, mode='auto')\n",
        "# 모델 트레이닝\n",
        "# batch_size: 전체 데이터셋 중 몇개씩 학습시킬 것인지\n",
        "# epoch: 학습에 전체 데이터셋이 총 몇번 이용될 것인지\n",
        "# shuffle: 학습전에 트레이닝 데이터셋을 랜덤하게 섞을 것인지\n",
        "# validation_data: 중간 성능 검증에 사용할 data set\n",
        "model.fit(x_train_after, y_train, batch_size = 128, epochs = 30, shuffle=True, callbacks=[cp_callback], validation_data=(x_test_after, y_test))"
      ],
      "execution_count": 89,
      "outputs": [
        {
          "output_type": "stream",
          "text": [
            "Epoch 1/30\n",
            "881/882 [============================>.] - ETA: 0s - loss: 0.7288 - accuracy: 0.7670\n",
            "Epoch 00001: val_accuracy improved from -inf to 0.85457, saving model to /content/checkpoint_entire_best.h5\n",
            "882/882 [==============================] - 9s 10ms/step - loss: 0.7287 - accuracy: 0.7670 - val_loss: 0.4272 - val_accuracy: 0.8546\n",
            "Epoch 2/30\n",
            "879/882 [============================>.] - ETA: 0s - loss: 0.4471 - accuracy: 0.8435\n",
            "Epoch 00002: val_accuracy improved from 0.85457 to 0.86926, saving model to /content/checkpoint_entire_best.h5\n",
            "882/882 [==============================] - 8s 10ms/step - loss: 0.4471 - accuracy: 0.8435 - val_loss: 0.3808 - val_accuracy: 0.8693\n",
            "Epoch 3/30\n",
            "879/882 [============================>.] - ETA: 0s - loss: 0.4019 - accuracy: 0.8572\n",
            "Epoch 00003: val_accuracy improved from 0.86926 to 0.87500, saving model to /content/checkpoint_entire_best.h5\n",
            "882/882 [==============================] - 8s 9ms/step - loss: 0.4020 - accuracy: 0.8571 - val_loss: 0.3537 - val_accuracy: 0.8750\n",
            "Epoch 4/30\n",
            "879/882 [============================>.] - ETA: 0s - loss: 0.3769 - accuracy: 0.8645\n",
            "Epoch 00004: val_accuracy improved from 0.87500 to 0.88138, saving model to /content/checkpoint_entire_best.h5\n",
            "882/882 [==============================] - 8s 9ms/step - loss: 0.3768 - accuracy: 0.8645 - val_loss: 0.3300 - val_accuracy: 0.8814\n",
            "Epoch 5/30\n",
            "876/882 [============================>.] - ETA: 0s - loss: 0.3596 - accuracy: 0.8702\n",
            "Epoch 00005: val_accuracy improved from 0.88138 to 0.88218, saving model to /content/checkpoint_entire_best.h5\n",
            "882/882 [==============================] - 8s 9ms/step - loss: 0.3596 - accuracy: 0.8703 - val_loss: 0.3317 - val_accuracy: 0.8822\n",
            "Epoch 6/30\n",
            "880/882 [============================>.] - ETA: 0s - loss: 0.3486 - accuracy: 0.8731\n",
            "Epoch 00006: val_accuracy improved from 0.88218 to 0.88277, saving model to /content/checkpoint_entire_best.h5\n",
            "882/882 [==============================] - 8s 9ms/step - loss: 0.3485 - accuracy: 0.8731 - val_loss: 0.3181 - val_accuracy: 0.8828\n",
            "Epoch 7/30\n",
            "881/882 [============================>.] - ETA: 0s - loss: 0.3355 - accuracy: 0.8764\n",
            "Epoch 00007: val_accuracy improved from 0.88277 to 0.88378, saving model to /content/checkpoint_entire_best.h5\n",
            "882/882 [==============================] - 8s 10ms/step - loss: 0.3356 - accuracy: 0.8764 - val_loss: 0.3310 - val_accuracy: 0.8838\n",
            "Epoch 8/30\n",
            "880/882 [============================>.] - ETA: 0s - loss: 0.3284 - accuracy: 0.8813\n",
            "Epoch 00008: val_accuracy improved from 0.88378 to 0.88681, saving model to /content/checkpoint_entire_best.h5\n",
            "882/882 [==============================] - 9s 10ms/step - loss: 0.3286 - accuracy: 0.8813 - val_loss: 0.3156 - val_accuracy: 0.8868\n",
            "Epoch 9/30\n",
            "877/882 [============================>.] - ETA: 0s - loss: 0.3197 - accuracy: 0.8822\n",
            "Epoch 00009: val_accuracy improved from 0.88681 to 0.88697, saving model to /content/checkpoint_entire_best.h5\n",
            "882/882 [==============================] - 8s 9ms/step - loss: 0.3200 - accuracy: 0.8821 - val_loss: 0.3068 - val_accuracy: 0.8870\n",
            "Epoch 10/30\n",
            "876/882 [============================>.] - ETA: 0s - loss: 0.3140 - accuracy: 0.8843\n",
            "Epoch 00010: val_accuracy improved from 0.88697 to 0.89250, saving model to /content/checkpoint_entire_best.h5\n",
            "882/882 [==============================] - 8s 9ms/step - loss: 0.3138 - accuracy: 0.8844 - val_loss: 0.2993 - val_accuracy: 0.8925\n",
            "Epoch 11/30\n",
            "879/882 [============================>.] - ETA: 0s - loss: 0.3054 - accuracy: 0.8860\n",
            "Epoch 00011: val_accuracy did not improve from 0.89250\n",
            "882/882 [==============================] - 8s 9ms/step - loss: 0.3053 - accuracy: 0.8860 - val_loss: 0.3161 - val_accuracy: 0.8895\n",
            "Epoch 12/30\n",
            "877/882 [============================>.] - ETA: 0s - loss: 0.3005 - accuracy: 0.8885\n",
            "Epoch 00012: val_accuracy did not improve from 0.89250\n",
            "882/882 [==============================] - 8s 9ms/step - loss: 0.3006 - accuracy: 0.8885 - val_loss: 0.3085 - val_accuracy: 0.8901\n",
            "Epoch 13/30\n",
            "881/882 [============================>.] - ETA: 0s - loss: 0.2952 - accuracy: 0.8898\n",
            "Epoch 00013: val_accuracy did not improve from 0.89250\n",
            "882/882 [==============================] - 8s 9ms/step - loss: 0.2952 - accuracy: 0.8898 - val_loss: 0.3041 - val_accuracy: 0.8921\n",
            "Epoch 14/30\n",
            "878/882 [============================>.] - ETA: 0s - loss: 0.2920 - accuracy: 0.8911\n",
            "Epoch 00014: val_accuracy did not improve from 0.89250\n",
            "882/882 [==============================] - 8s 9ms/step - loss: 0.2920 - accuracy: 0.8911 - val_loss: 0.3020 - val_accuracy: 0.8923\n",
            "Epoch 15/30\n",
            "882/882 [==============================] - ETA: 0s - loss: 0.2855 - accuracy: 0.8921\n",
            "Epoch 00015: val_accuracy improved from 0.89250 to 0.89309, saving model to /content/checkpoint_entire_best.h5\n",
            "882/882 [==============================] - 8s 9ms/step - loss: 0.2855 - accuracy: 0.8921 - val_loss: 0.3009 - val_accuracy: 0.8931\n",
            "Epoch 16/30\n",
            "878/882 [============================>.] - ETA: 0s - loss: 0.2825 - accuracy: 0.8936\n",
            "Epoch 00016: val_accuracy improved from 0.89309 to 0.89511, saving model to /content/checkpoint_entire_best.h5\n",
            "882/882 [==============================] - 8s 9ms/step - loss: 0.2825 - accuracy: 0.8936 - val_loss: 0.2960 - val_accuracy: 0.8951\n",
            "Epoch 17/30\n",
            "881/882 [============================>.] - ETA: 0s - loss: 0.2791 - accuracy: 0.8943\n",
            "Epoch 00017: val_accuracy did not improve from 0.89511\n",
            "882/882 [==============================] - 8s 9ms/step - loss: 0.2791 - accuracy: 0.8943 - val_loss: 0.2970 - val_accuracy: 0.8926\n",
            "Epoch 18/30\n",
            "878/882 [============================>.] - ETA: 0s - loss: 0.2746 - accuracy: 0.8961\n",
            "Epoch 00018: val_accuracy improved from 0.89511 to 0.89537, saving model to /content/checkpoint_entire_best.h5\n",
            "882/882 [==============================] - 8s 9ms/step - loss: 0.2747 - accuracy: 0.8961 - val_loss: 0.2960 - val_accuracy: 0.8954\n",
            "Epoch 19/30\n",
            "880/882 [============================>.] - ETA: 0s - loss: 0.2743 - accuracy: 0.8955\n",
            "Epoch 00019: val_accuracy improved from 0.89537 to 0.89809, saving model to /content/checkpoint_entire_best.h5\n",
            "882/882 [==============================] - 8s 9ms/step - loss: 0.2743 - accuracy: 0.8956 - val_loss: 0.2914 - val_accuracy: 0.8981\n",
            "Epoch 20/30\n",
            "877/882 [============================>.] - ETA: 0s - loss: 0.2682 - accuracy: 0.8977\n",
            "Epoch 00020: val_accuracy did not improve from 0.89809\n",
            "882/882 [==============================] - 8s 9ms/step - loss: 0.2681 - accuracy: 0.8978 - val_loss: 0.2935 - val_accuracy: 0.8962\n",
            "Epoch 21/30\n",
            "880/882 [============================>.] - ETA: 0s - loss: 0.2645 - accuracy: 0.8997\n",
            "Epoch 00021: val_accuracy did not improve from 0.89809\n",
            "882/882 [==============================] - 8s 9ms/step - loss: 0.2645 - accuracy: 0.8996 - val_loss: 0.2881 - val_accuracy: 0.8961\n",
            "Epoch 22/30\n",
            "878/882 [============================>.] - ETA: 0s - loss: 0.2639 - accuracy: 0.8986\n",
            "Epoch 00022: val_accuracy did not improve from 0.89809\n",
            "882/882 [==============================] - 8s 9ms/step - loss: 0.2639 - accuracy: 0.8986 - val_loss: 0.2916 - val_accuracy: 0.8977\n",
            "Epoch 23/30\n",
            "881/882 [============================>.] - ETA: 0s - loss: 0.2623 - accuracy: 0.8994\n",
            "Epoch 00023: val_accuracy did not improve from 0.89809\n",
            "882/882 [==============================] - 8s 9ms/step - loss: 0.2623 - accuracy: 0.8994 - val_loss: 0.2929 - val_accuracy: 0.8979\n",
            "Epoch 24/30\n",
            "876/882 [============================>.] - ETA: 0s - loss: 0.2605 - accuracy: 0.9003\n",
            "Epoch 00024: val_accuracy did not improve from 0.89809\n",
            "882/882 [==============================] - 8s 9ms/step - loss: 0.2605 - accuracy: 0.9003 - val_loss: 0.2916 - val_accuracy: 0.8968\n",
            "Epoch 25/30\n",
            "879/882 [============================>.] - ETA: 0s - loss: 0.2563 - accuracy: 0.9013\n",
            "Epoch 00025: val_accuracy did not improve from 0.89809\n",
            "882/882 [==============================] - 8s 9ms/step - loss: 0.2563 - accuracy: 0.9014 - val_loss: 0.2900 - val_accuracy: 0.8980\n",
            "Epoch 26/30\n",
            "880/882 [============================>.] - ETA: 0s - loss: 0.2552 - accuracy: 0.9018\n",
            "Epoch 00026: val_accuracy did not improve from 0.89809\n",
            "882/882 [==============================] - 8s 9ms/step - loss: 0.2552 - accuracy: 0.9018 - val_loss: 0.2901 - val_accuracy: 0.8973\n",
            "Epoch 27/30\n",
            "881/882 [============================>.] - ETA: 0s - loss: 0.2505 - accuracy: 0.9029\n",
            "Epoch 00027: val_accuracy did not improve from 0.89809\n",
            "882/882 [==============================] - 8s 9ms/step - loss: 0.2506 - accuracy: 0.9029 - val_loss: 0.2973 - val_accuracy: 0.8969\n",
            "Epoch 28/30\n",
            "880/882 [============================>.] - ETA: 0s - loss: 0.2499 - accuracy: 0.9034\n",
            "Epoch 00028: val_accuracy improved from 0.89809 to 0.89952, saving model to /content/checkpoint_entire_best.h5\n",
            "882/882 [==============================] - 8s 9ms/step - loss: 0.2499 - accuracy: 0.9034 - val_loss: 0.2912 - val_accuracy: 0.8995\n",
            "Epoch 29/30\n",
            "882/882 [==============================] - ETA: 0s - loss: 0.2480 - accuracy: 0.9035\n",
            "Epoch 00029: val_accuracy did not improve from 0.89952\n",
            "882/882 [==============================] - 8s 9ms/step - loss: 0.2480 - accuracy: 0.9035 - val_loss: 0.2906 - val_accuracy: 0.8990\n",
            "Epoch 30/30\n",
            "876/882 [============================>.] - ETA: 0s - loss: 0.2447 - accuracy: 0.9047\n",
            "Epoch 00030: val_accuracy did not improve from 0.89952\n",
            "882/882 [==============================] - 8s 9ms/step - loss: 0.2446 - accuracy: 0.9047 - val_loss: 0.2965 - val_accuracy: 0.8977\n"
          ],
          "name": "stdout"
        },
        {
          "output_type": "execute_result",
          "data": {
            "text/plain": [
              "<tensorflow.python.keras.callbacks.History at 0x7f02a3585fd0>"
            ]
          },
          "metadata": {
            "tags": []
          },
          "execution_count": 89
        }
      ]
    },
    {
      "cell_type": "markdown",
      "metadata": {
        "colab_type": "text",
        "id": "QR9WUYXxqtfR"
      },
      "source": [
        "# **4. 모델 저장**"
      ]
    },
    {
      "cell_type": "code",
      "metadata": {
        "colab_type": "code",
        "id": "Wi9yznz4qvzK",
        "colab": {}
      },
      "source": [
        "save_path = '/content/'\n",
        "team_name = 'team03'\n",
        "\n",
        "# 트레이닝된 전체 모델을 저장합니다.\n",
        "model.save(save_path +  'model_entire_'+ team_name + '.h5')"
      ],
      "execution_count": 93,
      "outputs": []
    },
    {
      "cell_type": "markdown",
      "metadata": {
        "colab_type": "text",
        "id": "4aPbgI-c-Kj8"
      },
      "source": [
        "# **5. 모델 로드 및 평가**"
      ]
    },
    {
      "cell_type": "code",
      "metadata": {
        "colab_type": "code",
        "id": "y7WONVxH-Kt6",
        "colab": {
          "base_uri": "https://localhost:8080/",
          "height": 52
        },
        "outputId": "26a50aa8-732e-44e6-a9db-45f08b301fcf"
      },
      "source": [
        "save_path = '/content/'\n",
        "team_name = 'team03'\n",
        "\n",
        "model = keras.models.load_model(save_path + 'model_entire_' + team_name + '.h5')\n",
        "\n",
        "model.evaluate(x_test_after, y_test)"
      ],
      "execution_count": 94,
      "outputs": [
        {
          "output_type": "stream",
          "text": [
            "588/588 [==============================] - 2s 3ms/step - loss: 0.2965 - accuracy: 0.8977\n"
          ],
          "name": "stdout"
        },
        {
          "output_type": "execute_result",
          "data": {
            "text/plain": [
              "[0.29649418592453003, 0.897712767124176]"
            ]
          },
          "metadata": {
            "tags": []
          },
          "execution_count": 94
        }
      ]
    }
  ]
}